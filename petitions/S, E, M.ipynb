{
 "cells": [
  {
   "cell_type": "code",
   "execution_count": 1,
   "metadata": {},
   "outputs": [],
   "source": [
    "import numpy as np\n",
    "import pandas as pd\n",
    "from datetime import datetime"
   ]
  },
  {
   "cell_type": "code",
   "execution_count": 2,
   "metadata": {},
   "outputs": [],
   "source": [
    "df = pd.read_json('petitions.jsonlines', lines=True)"
   ]
  },
  {
   "cell_type": "code",
   "execution_count": 3,
   "metadata": {},
   "outputs": [],
   "source": [
    "def processor(list):\n",
    "    if np.all(pd.notnull(list)):  # leaves NaN values alone\n",
    "        if type(list[0]) == str:  # .join() only works with strings\n",
    "            joined_list = ''.join(list)  # join all elements into one string\n",
    "            joined_list_without_newlines = joined_list.replace('\\n', '')  # get rid of newline characters\n",
    "            return joined_list_without_newlines\n",
    "        else:\n",
    "            return list[0]  # processes non-str"
   ]
  },
  {
   "cell_type": "code",
   "execution_count": 4,
   "metadata": {},
   "outputs": [],
   "source": [
    "for column_name in df.columns:\n",
    "    df['{}'.format(column_name)] = df['{}'.format(column_name)].apply(processor)"
   ]
  },
  {
   "cell_type": "code",
   "execution_count": 5,
   "metadata": {},
   "outputs": [],
   "source": [
    "df['deadline'] = df['deadline'].apply(lambda x : datetime.strptime(x, '%d %B %Y'))"
   ]
  },
  {
   "cell_type": "code",
   "execution_count": 6,
   "metadata": {},
   "outputs": [],
   "source": [
    "df = df[['votes', 'text', 'more_detail', 'gov_response', 'status', 'deadline', 'url']]"
   ]
  },
  {
   "cell_type": "code",
   "execution_count": 7,
   "metadata": {},
   "outputs": [
    {
     "data": {
      "text/html": [
       "<div>\n",
       "<style scoped>\n",
       "    .dataframe tbody tr th:only-of-type {\n",
       "        vertical-align: middle;\n",
       "    }\n",
       "\n",
       "    .dataframe tbody tr th {\n",
       "        vertical-align: top;\n",
       "    }\n",
       "\n",
       "    .dataframe thead th {\n",
       "        text-align: right;\n",
       "    }\n",
       "</style>\n",
       "<table border=\"1\" class=\"dataframe\">\n",
       "  <thead>\n",
       "    <tr style=\"text-align: right;\">\n",
       "      <th></th>\n",
       "      <th>votes</th>\n",
       "      <th>text</th>\n",
       "      <th>more_detail</th>\n",
       "      <th>gov_response</th>\n",
       "      <th>status</th>\n",
       "      <th>deadline</th>\n",
       "      <th>url</th>\n",
       "    </tr>\n",
       "  </thead>\n",
       "  <tbody>\n",
       "    <tr>\n",
       "      <th>0</th>\n",
       "      <td>296042.0</td>\n",
       "      <td>Ban the sale of fireworks to the public. Displ...</td>\n",
       "      <td>Every year fireworks are set off unnecessarily...</td>\n",
       "      <td>Government takes the issue of safety of firewo...</td>\n",
       "      <td>Open</td>\n",
       "      <td>2019-04-30</td>\n",
       "      <td>https://petition.parliament.uk/petitions/231147</td>\n",
       "    </tr>\n",
       "    <tr>\n",
       "      <th>1</th>\n",
       "      <td>186226.0</td>\n",
       "      <td>Reject calls to add Staffordshire Bull Terrier...</td>\n",
       "      <td>PETA, an organisation that is meant to be dedi...</td>\n",
       "      <td>The Government has no intention of prohibiting...</td>\n",
       "      <td>Closed</td>\n",
       "      <td>2018-12-22</td>\n",
       "      <td>https://petition.parliament.uk/petitions/222419</td>\n",
       "    </tr>\n",
       "    <tr>\n",
       "      <th>2</th>\n",
       "      <td>180482.0</td>\n",
       "      <td>Amnesty for anyone who was a minor that arrive...</td>\n",
       "      <td>Windrush Generation were invited as settlers a...</td>\n",
       "      <td>The Government is clear that an amnesty for th...</td>\n",
       "      <td>Closed</td>\n",
       "      <td>2018-10-06</td>\n",
       "      <td>https://petition.parliament.uk/petitions/216539</td>\n",
       "    </tr>\n",
       "    <tr>\n",
       "      <th>3</th>\n",
       "      <td>165934.0</td>\n",
       "      <td>Change the GCSE English Literature exam from c...</td>\n",
       "      <td>Last year, lots of students struggled with GCS...</td>\n",
       "      <td>Exam boards do not allow access to copies of w...</td>\n",
       "      <td>Closed</td>\n",
       "      <td>2018-03-18</td>\n",
       "      <td>https://petition.parliament.uk/petitions/200299</td>\n",
       "    </tr>\n",
       "    <tr>\n",
       "      <th>4</th>\n",
       "      <td>286147.0</td>\n",
       "      <td>Leave the EU without a deal in March 2019.</td>\n",
       "      <td>We are wasting Billions of pounds of taxpayers...</td>\n",
       "      <td>The deal that we have reached with the EU is t...</td>\n",
       "      <td>Open</td>\n",
       "      <td>2019-04-17</td>\n",
       "      <td>https://petition.parliament.uk/petitions/229963</td>\n",
       "    </tr>\n",
       "  </tbody>\n",
       "</table>\n",
       "</div>"
      ],
      "text/plain": [
       "      votes                                               text  \\\n",
       "0  296042.0  Ban the sale of fireworks to the public. Displ...   \n",
       "1  186226.0  Reject calls to add Staffordshire Bull Terrier...   \n",
       "2  180482.0  Amnesty for anyone who was a minor that arrive...   \n",
       "3  165934.0  Change the GCSE English Literature exam from c...   \n",
       "4  286147.0         Leave the EU without a deal in March 2019.   \n",
       "\n",
       "                                         more_detail  \\\n",
       "0  Every year fireworks are set off unnecessarily...   \n",
       "1  PETA, an organisation that is meant to be dedi...   \n",
       "2  Windrush Generation were invited as settlers a...   \n",
       "3  Last year, lots of students struggled with GCS...   \n",
       "4  We are wasting Billions of pounds of taxpayers...   \n",
       "\n",
       "                                        gov_response  status   deadline  \\\n",
       "0  Government takes the issue of safety of firewo...    Open 2019-04-30   \n",
       "1  The Government has no intention of prohibiting...  Closed 2018-12-22   \n",
       "2  The Government is clear that an amnesty for th...  Closed 2018-10-06   \n",
       "3  Exam boards do not allow access to copies of w...  Closed 2018-03-18   \n",
       "4  The deal that we have reached with the EU is t...    Open 2019-04-17   \n",
       "\n",
       "                                               url  \n",
       "0  https://petition.parliament.uk/petitions/231147  \n",
       "1  https://petition.parliament.uk/petitions/222419  \n",
       "2  https://petition.parliament.uk/petitions/216539  \n",
       "3  https://petition.parliament.uk/petitions/200299  \n",
       "4  https://petition.parliament.uk/petitions/229963  "
      ]
     },
     "execution_count": 7,
     "metadata": {},
     "output_type": "execute_result"
    }
   ],
   "source": [
    "df.head()"
   ]
  },
  {
   "cell_type": "code",
   "execution_count": 10,
   "metadata": {},
   "outputs": [],
   "source": [
    "df.to_csv('UK_Government_Petitions.csv')"
   ]
  },
  {
   "cell_type": "code",
   "execution_count": 11,
   "metadata": {},
   "outputs": [
    {
     "data": {
      "text/html": [
       "<div>\n",
       "<style scoped>\n",
       "    .dataframe tbody tr th:only-of-type {\n",
       "        vertical-align: middle;\n",
       "    }\n",
       "\n",
       "    .dataframe tbody tr th {\n",
       "        vertical-align: top;\n",
       "    }\n",
       "\n",
       "    .dataframe thead th {\n",
       "        text-align: right;\n",
       "    }\n",
       "</style>\n",
       "<table border=\"1\" class=\"dataframe\">\n",
       "  <thead>\n",
       "    <tr style=\"text-align: right;\">\n",
       "      <th></th>\n",
       "      <th>votes</th>\n",
       "    </tr>\n",
       "  </thead>\n",
       "  <tbody>\n",
       "    <tr>\n",
       "      <th>count</th>\n",
       "      <td>4740.000000</td>\n",
       "    </tr>\n",
       "    <tr>\n",
       "      <th>mean</th>\n",
       "      <td>2590.896203</td>\n",
       "    </tr>\n",
       "    <tr>\n",
       "      <th>std</th>\n",
       "      <td>14963.765181</td>\n",
       "    </tr>\n",
       "    <tr>\n",
       "      <th>min</th>\n",
       "      <td>6.000000</td>\n",
       "    </tr>\n",
       "    <tr>\n",
       "      <th>25%</th>\n",
       "      <td>20.000000</td>\n",
       "    </tr>\n",
       "    <tr>\n",
       "      <th>50%</th>\n",
       "      <td>56.000000</td>\n",
       "    </tr>\n",
       "    <tr>\n",
       "      <th>75%</th>\n",
       "      <td>359.000000</td>\n",
       "    </tr>\n",
       "    <tr>\n",
       "      <th>max</th>\n",
       "      <td>296042.000000</td>\n",
       "    </tr>\n",
       "  </tbody>\n",
       "</table>\n",
       "</div>"
      ],
      "text/plain": [
       "               votes\n",
       "count    4740.000000\n",
       "mean     2590.896203\n",
       "std     14963.765181\n",
       "min         6.000000\n",
       "25%        20.000000\n",
       "50%        56.000000\n",
       "75%       359.000000\n",
       "max    296042.000000"
      ]
     },
     "execution_count": 11,
     "metadata": {},
     "output_type": "execute_result"
    }
   ],
   "source": [
    "df.describe()"
   ]
  },
  {
   "cell_type": "code",
   "execution_count": 12,
   "metadata": {},
   "outputs": [
    {
     "name": "stdout",
     "output_type": "stream",
     "text": [
      "<class 'pandas.core.frame.DataFrame'>\n",
      "RangeIndex: 13076 entries, 0 to 13075\n",
      "Data columns (total 7 columns):\n",
      "votes           4740 non-null float64\n",
      "text            13076 non-null object\n",
      "more_detail     13076 non-null object\n",
      "gov_response    240 non-null object\n",
      "status          13076 non-null object\n",
      "deadline        13076 non-null datetime64[ns]\n",
      "url             13076 non-null object\n",
      "dtypes: datetime64[ns](1), float64(1), object(5)\n",
      "memory usage: 715.2+ KB\n"
     ]
    }
   ],
   "source": [
    "df.info()"
   ]
  },
  {
   "cell_type": "code",
   "execution_count": null,
   "metadata": {},
   "outputs": [],
   "source": []
  }
 ],
 "metadata": {
  "kernelspec": {
   "display_name": "Python 3",
   "language": "python",
   "name": "python3"
  },
  "language_info": {
   "codemirror_mode": {
    "name": "ipython",
    "version": 3
   },
   "file_extension": ".py",
   "mimetype": "text/x-python",
   "name": "python",
   "nbconvert_exporter": "python",
   "pygments_lexer": "ipython3",
   "version": "3.6.5"
  }
 },
 "nbformat": 4,
 "nbformat_minor": 2
}
